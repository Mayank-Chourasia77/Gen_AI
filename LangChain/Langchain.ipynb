{
  "nbformat": 4,
  "nbformat_minor": 0,
  "metadata": {
    "colab": {
      "provenance": []
    },
    "kernelspec": {
      "name": "python3",
      "display_name": "Python 3"
    },
    "language_info": {
      "name": "python"
    }
  },
  "cells": [
    {
      "cell_type": "code",
      "source": [
        "!pip install langchain-community\n",
        "\n",
        "from langchain.chat_models import ChatOpenAI\n",
        "from langchain.schema import HumanMessage\n",
        "\n",
        "llm = ChatOpenAI(\n",
        "    model=\"llama3-70b-8192\",\n",
        "    temperature = 0.6,\n",
        "    openai_api_key=\"Your-Groq-API\",\n",
        "    openai_api_base=\"https://api.groq.com/openai/v1\"\n",
        ")\n",
        "\n",
        "response = llm([HumanMessage(content=\"I want to open a restaurant for Indian food. Suggest a fancy name for this.\")])\n",
        "print(response.content)"
      ],
      "metadata": {
        "colab": {
          "base_uri": "https://localhost:8080/"
        },
        "id": "3PjkBSKz4Wxb",
        "outputId": "a0001726-0433-478d-a721-5f0c8c4cc53c"
      },
      "execution_count": 2,
      "outputs": [
        {
          "output_type": "stream",
          "name": "stdout",
          "text": [
            "Requirement already satisfied: langchain-community in /usr/local/lib/python3.11/dist-packages (0.3.24)\n",
            "Requirement already satisfied: langchain-core<1.0.0,>=0.3.59 in /usr/local/lib/python3.11/dist-packages (from langchain-community) (0.3.63)\n",
            "Requirement already satisfied: langchain<1.0.0,>=0.3.25 in /usr/local/lib/python3.11/dist-packages (from langchain-community) (0.3.25)\n",
            "Requirement already satisfied: SQLAlchemy<3,>=1.4 in /usr/local/lib/python3.11/dist-packages (from langchain-community) (2.0.41)\n",
            "Requirement already satisfied: requests<3,>=2 in /usr/local/lib/python3.11/dist-packages (from langchain-community) (2.32.3)\n",
            "Requirement already satisfied: PyYAML>=5.3 in /usr/local/lib/python3.11/dist-packages (from langchain-community) (6.0.2)\n",
            "Requirement already satisfied: aiohttp<4.0.0,>=3.8.3 in /usr/local/lib/python3.11/dist-packages (from langchain-community) (3.11.15)\n",
            "Requirement already satisfied: tenacity!=8.4.0,<10,>=8.1.0 in /usr/local/lib/python3.11/dist-packages (from langchain-community) (9.1.2)\n",
            "Requirement already satisfied: dataclasses-json<0.7,>=0.5.7 in /usr/local/lib/python3.11/dist-packages (from langchain-community) (0.6.7)\n",
            "Requirement already satisfied: pydantic-settings<3.0.0,>=2.4.0 in /usr/local/lib/python3.11/dist-packages (from langchain-community) (2.9.1)\n",
            "Requirement already satisfied: langsmith<0.4,>=0.1.125 in /usr/local/lib/python3.11/dist-packages (from langchain-community) (0.3.44)\n",
            "Requirement already satisfied: httpx-sse<1.0.0,>=0.4.0 in /usr/local/lib/python3.11/dist-packages (from langchain-community) (0.4.0)\n",
            "Requirement already satisfied: numpy>=1.26.2 in /usr/local/lib/python3.11/dist-packages (from langchain-community) (2.0.2)\n",
            "Requirement already satisfied: aiohappyeyeballs>=2.3.0 in /usr/local/lib/python3.11/dist-packages (from aiohttp<4.0.0,>=3.8.3->langchain-community) (2.6.1)\n",
            "Requirement already satisfied: aiosignal>=1.1.2 in /usr/local/lib/python3.11/dist-packages (from aiohttp<4.0.0,>=3.8.3->langchain-community) (1.3.2)\n",
            "Requirement already satisfied: attrs>=17.3.0 in /usr/local/lib/python3.11/dist-packages (from aiohttp<4.0.0,>=3.8.3->langchain-community) (25.3.0)\n",
            "Requirement already satisfied: frozenlist>=1.1.1 in /usr/local/lib/python3.11/dist-packages (from aiohttp<4.0.0,>=3.8.3->langchain-community) (1.6.0)\n",
            "Requirement already satisfied: multidict<7.0,>=4.5 in /usr/local/lib/python3.11/dist-packages (from aiohttp<4.0.0,>=3.8.3->langchain-community) (6.4.4)\n",
            "Requirement already satisfied: propcache>=0.2.0 in /usr/local/lib/python3.11/dist-packages (from aiohttp<4.0.0,>=3.8.3->langchain-community) (0.3.1)\n",
            "Requirement already satisfied: yarl<2.0,>=1.17.0 in /usr/local/lib/python3.11/dist-packages (from aiohttp<4.0.0,>=3.8.3->langchain-community) (1.20.0)\n",
            "Requirement already satisfied: marshmallow<4.0.0,>=3.18.0 in /usr/local/lib/python3.11/dist-packages (from dataclasses-json<0.7,>=0.5.7->langchain-community) (3.26.1)\n",
            "Requirement already satisfied: typing-inspect<1,>=0.4.0 in /usr/local/lib/python3.11/dist-packages (from dataclasses-json<0.7,>=0.5.7->langchain-community) (0.9.0)\n",
            "Requirement already satisfied: langchain-text-splitters<1.0.0,>=0.3.8 in /usr/local/lib/python3.11/dist-packages (from langchain<1.0.0,>=0.3.25->langchain-community) (0.3.8)\n",
            "Requirement already satisfied: pydantic<3.0.0,>=2.7.4 in /usr/local/lib/python3.11/dist-packages (from langchain<1.0.0,>=0.3.25->langchain-community) (2.11.5)\n",
            "Requirement already satisfied: jsonpatch<2.0,>=1.33 in /usr/local/lib/python3.11/dist-packages (from langchain-core<1.0.0,>=0.3.59->langchain-community) (1.33)\n",
            "Requirement already satisfied: packaging<25,>=23.2 in /usr/local/lib/python3.11/dist-packages (from langchain-core<1.0.0,>=0.3.59->langchain-community) (24.2)\n",
            "Requirement already satisfied: typing-extensions>=4.7 in /usr/local/lib/python3.11/dist-packages (from langchain-core<1.0.0,>=0.3.59->langchain-community) (4.14.0)\n",
            "Requirement already satisfied: httpx<1,>=0.23.0 in /usr/local/lib/python3.11/dist-packages (from langsmith<0.4,>=0.1.125->langchain-community) (0.28.1)\n",
            "Requirement already satisfied: orjson<4.0.0,>=3.9.14 in /usr/local/lib/python3.11/dist-packages (from langsmith<0.4,>=0.1.125->langchain-community) (3.10.18)\n",
            "Requirement already satisfied: requests-toolbelt<2.0.0,>=1.0.0 in /usr/local/lib/python3.11/dist-packages (from langsmith<0.4,>=0.1.125->langchain-community) (1.0.0)\n",
            "Requirement already satisfied: zstandard<0.24.0,>=0.23.0 in /usr/local/lib/python3.11/dist-packages (from langsmith<0.4,>=0.1.125->langchain-community) (0.23.0)\n",
            "Requirement already satisfied: python-dotenv>=0.21.0 in /usr/local/lib/python3.11/dist-packages (from pydantic-settings<3.0.0,>=2.4.0->langchain-community) (1.1.0)\n",
            "Requirement already satisfied: typing-inspection>=0.4.0 in /usr/local/lib/python3.11/dist-packages (from pydantic-settings<3.0.0,>=2.4.0->langchain-community) (0.4.1)\n",
            "Requirement already satisfied: charset-normalizer<4,>=2 in /usr/local/lib/python3.11/dist-packages (from requests<3,>=2->langchain-community) (3.4.2)\n",
            "Requirement already satisfied: idna<4,>=2.5 in /usr/local/lib/python3.11/dist-packages (from requests<3,>=2->langchain-community) (3.10)\n",
            "Requirement already satisfied: urllib3<3,>=1.21.1 in /usr/local/lib/python3.11/dist-packages (from requests<3,>=2->langchain-community) (2.4.0)\n",
            "Requirement already satisfied: certifi>=2017.4.17 in /usr/local/lib/python3.11/dist-packages (from requests<3,>=2->langchain-community) (2025.4.26)\n",
            "Requirement already satisfied: greenlet>=1 in /usr/local/lib/python3.11/dist-packages (from SQLAlchemy<3,>=1.4->langchain-community) (3.2.2)\n",
            "Requirement already satisfied: anyio in /usr/local/lib/python3.11/dist-packages (from httpx<1,>=0.23.0->langsmith<0.4,>=0.1.125->langchain-community) (4.9.0)\n",
            "Requirement already satisfied: httpcore==1.* in /usr/local/lib/python3.11/dist-packages (from httpx<1,>=0.23.0->langsmith<0.4,>=0.1.125->langchain-community) (1.0.9)\n",
            "Requirement already satisfied: h11>=0.16 in /usr/local/lib/python3.11/dist-packages (from httpcore==1.*->httpx<1,>=0.23.0->langsmith<0.4,>=0.1.125->langchain-community) (0.16.0)\n",
            "Requirement already satisfied: jsonpointer>=1.9 in /usr/local/lib/python3.11/dist-packages (from jsonpatch<2.0,>=1.33->langchain-core<1.0.0,>=0.3.59->langchain-community) (3.0.0)\n",
            "Requirement already satisfied: annotated-types>=0.6.0 in /usr/local/lib/python3.11/dist-packages (from pydantic<3.0.0,>=2.7.4->langchain<1.0.0,>=0.3.25->langchain-community) (0.7.0)\n",
            "Requirement already satisfied: pydantic-core==2.33.2 in /usr/local/lib/python3.11/dist-packages (from pydantic<3.0.0,>=2.7.4->langchain<1.0.0,>=0.3.25->langchain-community) (2.33.2)\n",
            "Requirement already satisfied: mypy-extensions>=0.3.0 in /usr/local/lib/python3.11/dist-packages (from typing-inspect<1,>=0.4.0->dataclasses-json<0.7,>=0.5.7->langchain-community) (1.1.0)\n",
            "Requirement already satisfied: sniffio>=1.1 in /usr/local/lib/python3.11/dist-packages (from anyio->httpx<1,>=0.23.0->langsmith<0.4,>=0.1.125->langchain-community) (1.3.1)\n"
          ]
        },
        {
          "output_type": "stream",
          "name": "stderr",
          "text": [
            "<ipython-input-2-4ed87c82e387>:6: LangChainDeprecationWarning: The class `ChatOpenAI` was deprecated in LangChain 0.0.10 and will be removed in 1.0. An updated version of the class exists in the :class:`~langchain-openai package and should be used instead. To use it run `pip install -U :class:`~langchain-openai` and import as `from :class:`~langchain_openai import ChatOpenAI``.\n",
            "  llm = ChatOpenAI(\n",
            "<ipython-input-2-4ed87c82e387>:13: LangChainDeprecationWarning: The method `BaseChatModel.__call__` was deprecated in langchain-core 0.1.7 and will be removed in 1.0. Use :meth:`~invoke` instead.\n",
            "  response = llm([HumanMessage(content=\"I want to open a restaurant for Indian food. Suggest a fancy name for this.\")])\n"
          ]
        },
        {
          "output_type": "stream",
          "name": "stdout",
          "text": [
            "What a great idea! Here are some fancy name suggestions for your Indian restaurant:\n",
            "\n",
            "1. **Taj Mahal Palace**: Inspired by the iconic monument, this name evokes the richness and grandeur of Indian culture.\n",
            "2. **Riyasat**: Meaning \"kingdom\" in Hindi, this name promises a regal dining experience.\n",
            "3. **Dastan**: A Persian word for \"story\" or \"legend,\" this name suggests a culinary journey through the rich history of Indian cuisine.\n",
            "4. **Maharaja's Table**: This name combines the royal title \"Maharaja\" with a modern twist, implying a luxurious and exclusive dining experience.\n",
            "5. **Saffron & Spice**: This name highlights two essential ingredients in Indian cuisine, while also evoking the warm, inviting atmosphere of your restaurant.\n",
            "6. **Garam**: Meaning \"hot\" in Hindi, this name plays on the spicy and aromas of Indian food, while also hinting at the warmth of the dining experience.\n",
            "8. **Jewel of India**: This name captures the essence of Indian cuisine as a precious gem, while also emphasizing the richness and diversity of your menu.\n",
            "9. **Rajputana**: Inspired by the historic Rajput kingdom, this name suggests a bold, majestic, and authentic Indian dining experience.\n",
            "11. **Sariska**: Named after the ancient city in Rajasthan, this name combines history with a modern, sophisticated Indian cuisine.\n",
            "12. **Kohinoor**: Meaning \"mountain of light\" in Persian, this name references the famous diamond, implying a radiant and exceptional dining experience.\n",
            "\n",
            "Choose the one that resonates with your vision and style, and don't forget to pair it with a stunning logo and branding to make your restaurant truly stand out!\n"
          ]
        }
      ]
    },
    {
      "cell_type": "code",
      "source": [
        "from langchain.prompts import PromptTemplate\n",
        "prompt_template_name = PromptTemplate(\n",
        "    input_variables=['cuisine'],\n",
        "    template=\"I want to open a restaurant for {cuisine} food. Suggest a fency name for this.\"\n",
        ")\n",
        "\n",
        "p = prompt_template_name.format(cuisine=\"Italian\")\n",
        "print(p)\n"
      ],
      "metadata": {
        "id": "bVdngwzcy9TO",
        "colab": {
          "base_uri": "https://localhost:8080/"
        },
        "outputId": "7512cfb5-1cb6-4be1-e740-927d23b8bacd"
      },
      "execution_count": 4,
      "outputs": [
        {
          "output_type": "stream",
          "name": "stdout",
          "text": [
            "I want to open a restaurant for Italian food. Suggest a fency name for this.\n"
          ]
        }
      ]
    },
    {
      "cell_type": "code",
      "source": [
        "from re import VERBOSE\n",
        "#chain\n",
        "from langchain.chains import LLMChain\n",
        "chain = LLMChain(llm = llm,prompt = prompt_template_name , verbose = True)\n",
        "output = chain.run(\"Mexican\")\n",
        "formatted_output = output.strip()\n",
        "print(formatted_output)\n"
      ],
      "metadata": {
        "colab": {
          "base_uri": "https://localhost:8080/"
        },
        "id": "3HC_oipq8sNR",
        "outputId": "e4352a6f-8479-4001-d638-6fb403e23628"
      },
      "execution_count": 9,
      "outputs": [
        {
          "output_type": "stream",
          "name": "stdout",
          "text": [
            "\n",
            "\n",
            "\u001b[1m> Entering new LLMChain chain...\u001b[0m\n",
            "Prompt after formatting:\n",
            "\u001b[32;1m\u001b[1;3mI want to open a restaurant for Mexican food. Suggest a fency name for this.\u001b[0m\n",
            "\n",
            "\u001b[1m> Finished chain.\u001b[0m\n",
            "What a great venture! Here are some fancy name suggestions for your Mexican restaurant:\n",
            "\n",
            "1. **El Fuego** (The Fire) - evoking the spicy flavors and passion for food.\n",
            "2. **Vibrante** (Vibrant) - reflecting the lively atmosphere and colorful dishes.\n",
            "4. **La Casa de las Sazones** (The House of Flavors) - highlighting the rich culinary heritage.\n",
            "6. **Tortillería Gourmet** (Gourmet Tortilla Shop) - emphasizing the quality and craftsmanship.\n",
            "9. **Viva la Fiesta** (Long Live the Party) - conveying a fun, lively vibe and festive atmosphere.\n",
            "11. **Sol de México** (Sun of Mexico) - paying homage to the country's rich cultural heritage.\n",
            "13. **El Patio de la Abuela** (Grandma's Patio) - evoking a sense of warmth, tradition, and family.\n",
            "15. **Mestizo** (Mixed Heritage) - celebrating the blend of indigenous, Spanish, and African influences in Mexican cuisine.\n",
            "17. **Fiesta del Sol** (Sun Festival) - capturing the essence of a vibrant, lively gathering.\n",
            "19. **La Cocina de mi Abuela** (My Grandmother's Kitchen) - conveying a sense of tradition, love, and care.\n",
            "\n",
            "Choose the one that resonates with your vision and style, or feel free to modify any of these suggestions to fit your brand identity.\n",
            "\n",
            "Buena suerte (good luck) with your restaurant venture!\n"
          ]
        }
      ]
    },
    {
      "cell_type": "code",
      "source": [
        "prompt_template_name = PromptTemplate(\n",
        "    input_variables=['cuisine'],\n",
        "    template=\"I want to open a restaurant for {cuisine} food. Suggest a fency name for this.\"\n",
        ")\n",
        "\n",
        "name_chain = LLMChain(llm = llm, prompt = prompt_template_name)\n",
        "prompt_template_items = PromptTemplate(\n",
        "    input_variables=['restaurant_name'],\n",
        "    template=\"suggest some menu items for {restaurant_name}\"\n",
        ")\n",
        "food_items_chain = LLMChain(llm = llm,prompt=prompt_template_items)"
      ],
      "metadata": {
        "id": "sBX0Uxs-9e4u"
      },
      "execution_count": 12,
      "outputs": []
    },
    {
      "cell_type": "code",
      "source": [
        "#simple sequential chain\n",
        "from langchain.chains import SimpleSequentialChain\n",
        "chain = SimpleSequentialChain(chains=[name_chain,food_items_chain])\n",
        "\n",
        "content = chain.run(\"Indian\")\n",
        "print(content)"
      ],
      "metadata": {
        "colab": {
          "base_uri": "https://localhost:8080/"
        },
        "id": "iwVmZm9z_v6W",
        "outputId": "00b0a469-4322-4a6a-a9b1-7aae22a8a351"
      },
      "execution_count": 13,
      "outputs": [
        {
          "output_type": "stream",
          "name": "stdout",
          "text": [
            "What a great idea! Here are some menu item suggestions to complement your Indian restaurant's name:\n",
            "\n",
            "**Tandoori Delights**\n",
            "\n",
            "* Tandoori Chicken Tikka (marinated chicken cooked to perfection in the tandoor)\n",
            "* Tandoori Shrimp (shrimp marinated in yogurt and spices, grilled to perfection)\n",
            "* Tandoori Naan Bites (mini naan breads cooked in the tandoor, served with a side of garlic butter)\n",
            "\n",
            "**Dhaba Diya Specials**\n",
            "\n",
            "* Dhaba-style Chole Bhature (spicy chickpea curry served with a puffed bread)\n",
            "* Diya's Delight (vegetable biryani cooked with saffron and a hint of cardamom)\n",
            "\n",
            "**Saffron Bazaar Favorites**\n",
            "\n",
            "* Saffron Chicken Tikka Masala (rich, creamy tomato-based curry with saffron-infused chicken)\n",
            "* Saffron Vegetable Biryani (mixed vegetable biryani cooked with saffron and basmati rice)\n",
            "\n",
            "**Garam Gatha's Spicy Delights**\n",
            "\n",
            "* Garam Gatha Chicken (spicy chicken curry with a blend of Indian spices)\n",
            "* Garam Gatha Lamb Vindaloo (tender lamb cooked in a spicy tomato-based sauce)\n",
            "\n",
            "**Dakshin Delights**\n",
            "\n",
            "* Dakshin-style Idli Sambar (steamed rice cakes served with a spicy lentil-based vegetable stew)\n",
            "* Dakshin-style Dosa (fermented rice and lentil crepe served with sambar and chutney)\n",
            "\n",
            "**Maharaja's Kitchen Favorites**\n",
            "\n",
            "* Maharaja's Chicken Tikka Kebab (grilled chicken skewers served with a side of cilantro-lime rice)\n",
            "* Maharaja's Vegetable Jalfrezi (mixed vegetables cooked in a spicy tomato-based sauce, served with basmati rice)\n",
            "\n",
            "**Rasoi's Fusion Delights**\n",
            "\n",
            "* Rasoi's Chicken Tikka Quesadilla (tandoori chicken tikka wrapped in a tortilla with melted cheese and served with a side of cilantro-lime rice)\n",
            "* Rasoi's Vegetable Biryani Bowl (mixed vegetable biryani served with a side of raita, a yogurt and cucumber sauce)\n",
            "\n",
            "**Guru's Kitchen Specials**\n",
            "\n",
            "* Guru's Gourmet Thali (a selection of vegetarian dishes served with basmati rice, roti, and a side of raita)\n",
            "* Guru's Chicken Tikka Masala (rich, creamy tomato-based curry served with basmati rice and naan bread)\n",
            "\n",
            "These menu items are designed to complement the unique theme and name of your Indian restaurant. You can adjust the menu to fit your vision and target audience. Good luck!\n"
          ]
        }
      ]
    },
    {
      "cell_type": "code",
      "source": [
        "#sequential chain\n",
        "\n",
        "prompt_template_name = PromptTemplate(\n",
        "    input_variables =['cuisine'],\n",
        "    template = \"I want to open a restaurant for {cuisine} food. Suggest a fency name for this.\"\n",
        ")\n",
        "\n",
        "name_chain =LLMChain(llm=llm, prompt=prompt_template_name, output_key=\"restaurant_name\")"
      ],
      "metadata": {
        "id": "-gxmMiTVAJq5"
      },
      "execution_count": 14,
      "outputs": []
    },
    {
      "cell_type": "code",
      "source": [
        "prompt_template_items = PromptTemplate(\n",
        "    input_variables = ['restaurant_name'],\n",
        "    template='suggest some menu items for {restaurant_name}.'\n",
        ")\n",
        "food_items_chain = LLMChain(llm = llm,prompt=prompt_template_items,output_key=\"menu_items\")"
      ],
      "metadata": {
        "id": "Mo0GTt7YBYxq"
      },
      "execution_count": 16,
      "outputs": []
    },
    {
      "cell_type": "code",
      "source": [
        "from langchain.chains import SequentialChain\n",
        "chain = SequentialChain(\n",
        "    chains = [name_chain,food_items_chain],\n",
        "    input_variables=['cuisine'],\n",
        "    output_variables=['restaurant_name','menu_items']\n",
        ")"
      ],
      "metadata": {
        "id": "_ZrkhaOKCBem"
      },
      "execution_count": 17,
      "outputs": []
    },
    {
      "cell_type": "code",
      "source": [
        "result = chain({'cuisine':'Indiam'})\n",
        "print(result)\n"
      ],
      "metadata": {
        "colab": {
          "base_uri": "https://localhost:8080/"
        },
        "id": "hv_6T--IDCx9",
        "outputId": "679a048e-5c6a-4f28-c30d-8bc504206188"
      },
      "execution_count": 25,
      "outputs": [
        {
          "output_type": "stream",
          "name": "stdout",
          "text": [
            "{'cuisine': 'Indiam', 'restaurant_name': 'What a great idea! Indian cuisine is loved globally, and a fancy name can definitely attract customers. Here are some suggestions for a fancy name for your Indian restaurant:\\n\\n1. **Tandoor Mahal**: \"Tandoor\" refers to the traditional Indian clay oven, and \"Mahal\" means palace, evoking a sense of grandeur.\\n2. **Dhaba Royale**: \"Dhaba\" is a casual, rustic eatery in India, but adding \"Royale\" gives it a regal touch.\\n3. **Spice Route**: This name takes inspiration from the ancient spice trade routes that connected India to the world, hinting at the rich flavors and aromas your restaurant will offer.\\n4. **Maharaja\\'s Kitchen**: \"Maharaja\" means king, and \"Kitchen\" emphasizes the heart of the restaurant. This name suggests a regal, high-end dining experience.\\n5. **Garam Gourmet**: \"Garam\" is a Hindi word for hot and spicy, while \"Gourmet\" implies a sophisticated, refined dining experience.\\n6. **Rasoi**: This name means \"kitchen\" in Hindi, with a modern, sleek twist. It\\'s simple yet elegant.\\n7. **Taste of Taj**: The Taj Mahal, one of India\\'s most iconic symbols, is associated with beauty, luxury, and fine dining.\\n8. **Dakshin Dhaba**: \"Dakshin\" means south, referencing the rich culinary traditions of South India, while \"Dhaba\" adds a casual, rustic touch.\\n9. **Bazaar Bistro**: \"Bazaar\" evokes the vibrant, colorful markets of India, while \"Bistro\" implies a modern, chic dining experience.\\n10. **Curry Craft Co.**: This name plays on the idea of crafting delicious curries, with a modern, industrial-chic twist.\\n\\nChoose the one that resonates with your vision, and I\\'m sure your restaurant will be a hit!', 'menu_items': \"Here are some menu item suggestions to complement your fancy Indian restaurant name:\\n\\n**Appetizers**\\n\\n1. **Maharaja's Morsels**: Crispy samosas filled with spiced potatoes and peas, served with a side of mint chutney.\\n2. **Spice Route Skewers**: Marinated chicken or vegetable skewers grilled to perfection, served with a side of cucumber raita.\\n3. **Garam Gourmet Gyoza**: Pan-seared dumplings filled with spiced lamb or vegetables, served with a side of cilantro-lime dipping sauce.\\n\\n**Entrees**\\n\\n1. **Tandoor Mahal Chicken Tikka**: Tender chicken marinated in a flavorful blend of spices, grilled to perfection in a tandoor oven, served with basmati rice and naan bread.\\n2. **Dhaba Royale Vegetable Korma**: A rich and creamy korma sauce made with a blend of spices, served with basmati rice and naan bread.\\n3. **Rasoi's Railway Lamb Curry**: A classic lamb curry inspired by the flavors of India's railway cuisine, served with basmati rice and naan bread.\\n\\n**Sides**\\n\\n1. **Bazaar Bistro Basmati Rice**: Fragrant basmati infused with saffron and cardamom, served with a side of raita.\\n2. **Curry Craft Co. Garlic Naan**: Fresh garlic naan bread, perfect for scooping up flavorful curries.\\n\\n**Desserts**\\n\\n1. **Taste of Taj Kulfi**: Creamy Indian-style ice cream flavored with cardamom, saffron, or rosewater, served with a side of crispy biscuits.\\n2. **Maharaja's Mango Lassi Cheesecake**: A creamy cheesecake infused with the flavors of mango lassi, topped with toasted nuts and a sprinkle of cardamom powder.\\n\\nThese menu items are designed to complement your fancy Indian restaurant name and offer a range of flavors and textures to appeal to a diverse customer base.\"}\n"
          ]
        }
      ]
    },
    {
      "cell_type": "code",
      "source": [
        "#agents\n",
        "!pip install google-search-results"
      ],
      "metadata": {
        "colab": {
          "base_uri": "https://localhost:8080/"
        },
        "id": "dV4Up_PDDvRM",
        "outputId": "b7c4ee38-5605-4701-a8d4-d4a91ceb792a"
      },
      "execution_count": 27,
      "outputs": [
        {
          "output_type": "stream",
          "name": "stdout",
          "text": [
            "Collecting google-search-results\n",
            "  Downloading google_search_results-2.4.2.tar.gz (18 kB)\n",
            "  Preparing metadata (setup.py) ... \u001b[?25l\u001b[?25hdone\n",
            "Requirement already satisfied: requests in /usr/local/lib/python3.11/dist-packages (from google-search-results) (2.32.3)\n",
            "Requirement already satisfied: charset-normalizer<4,>=2 in /usr/local/lib/python3.11/dist-packages (from requests->google-search-results) (3.4.2)\n",
            "Requirement already satisfied: idna<4,>=2.5 in /usr/local/lib/python3.11/dist-packages (from requests->google-search-results) (3.10)\n",
            "Requirement already satisfied: urllib3<3,>=1.21.1 in /usr/local/lib/python3.11/dist-packages (from requests->google-search-results) (2.4.0)\n",
            "Requirement already satisfied: certifi>=2017.4.17 in /usr/local/lib/python3.11/dist-packages (from requests->google-search-results) (2025.4.26)\n",
            "Building wheels for collected packages: google-search-results\n",
            "  Building wheel for google-search-results (setup.py) ... \u001b[?25l\u001b[?25hdone\n",
            "  Created wheel for google-search-results: filename=google_search_results-2.4.2-py3-none-any.whl size=32010 sha256=79050e1a807b009c0971656d66d0defbdd529a6288ef7aadf2da6e493ff4088b\n",
            "  Stored in directory: /root/.cache/pip/wheels/6e/42/3e/aeb691b02cb7175ec70e2da04b5658d4739d2b41e5f73cd06f\n",
            "Successfully built google-search-results\n",
            "Installing collected packages: google-search-results\n",
            "Successfully installed google-search-results-2.4.2\n"
          ]
        }
      ]
    },
    {
      "cell_type": "code",
      "source": [
        "import os\n",
        "os.environ['SERPAPI_API_KEY'] = \"YOUR-SERPAPI_API\"\n",
        "\n",
        "from langchain.agents import AgentType,initialize_agent,load_tools\n",
        "\n",
        "tools = load_tools(['serpapi',\"llm-math\"],llm = llm)\n",
        "agent = initialize_agent(tools,llm,agent=AgentType.ZERO_SHOT_REACT_DESCRIPTION,verbose=True)\n",
        "# zero-shot-react-description --> think before respond\n",
        "\n",
        "agent.run(\"what was the gdp of us in 2022 plus 15?\")\n"
      ],
      "metadata": {
        "colab": {
          "base_uri": "https://localhost:8080/",
          "height": 403
        },
        "id": "n3b06OP6HbG1",
        "outputId": "1b5c69d6-2bc9-48b7-dffa-93ad93de04ca"
      },
      "execution_count": 31,
      "outputs": [
        {
          "output_type": "stream",
          "name": "stderr",
          "text": [
            "<ipython-input-31-f350d8b5306c>:7: LangChainDeprecationWarning: LangChain agents will continue to be supported, but it is recommended for new use cases to be built with LangGraph. LangGraph offers a more flexible and full-featured framework for building agents, including support for tool-calling, persistence of state, and human-in-the-loop workflows. For details, refer to the `LangGraph documentation <https://langchain-ai.github.io/langgraph/>`_ as well as guides for `Migrating from AgentExecutor <https://python.langchain.com/docs/how_to/migrate_agent/>`_ and LangGraph's `Pre-built ReAct agent <https://langchain-ai.github.io/langgraph/how-tos/create-react-agent/>`_.\n",
            "  agent = initialize_agent(tools,llm,agent=AgentType.ZERO_SHOT_REACT_DESCRIPTION,verbose=True)\n"
          ]
        },
        {
          "output_type": "stream",
          "name": "stdout",
          "text": [
            "\n",
            "\n",
            "\u001b[1m> Entering new AgentExecutor chain...\u001b[0m\n",
            "\u001b[32;1m\u001b[1;3mThought: I need to find the GDP of 2022, and then add 15 is a numerical value, so I'll use the Calculator to perform the addition. But first, I need to find the GDP of 2022.\n",
            "\n",
            "Action: Search\n",
            "Action Input: \"US GDP 2022\"\u001b[0m\n",
            "Observation: \u001b[36;1m\u001b[1;3m['Current-dollar GDP increased 9.2 percent, or $2.15 trillion, in 2022 to a level of $25.46 trillion, compared with an increase of 10.7 percent, ...', 'A comprehensive measure of US economic activity. GDP measures the value of the final goods and services produced in the United States.', 'U.S. GDP for 2022 was 25.744 trillion US dollars, a 9.11% increase from 2021. · U.S. GDP for 2021 was 23.594 trillion US dollars, a 10.65% increase from 2020.', 'Virgin Islands (U.S.). 2022. 4,672.00. West Bank and Gaza. 2023. 17,420.80. Yemen, Rep. 2018. 21,606.16. Zambia. 2023. 27,577.96. Zimbabwe. 2023. 35,231.37.', 'GDP Growth Rate in the United States is expected to be 1.50 percent by the end of this quarter, according to Trading Economics global macro models and analysts ...', 'The Gross Domestic Product (GDP) in the United States was worth 27720.71 billion US dollars in 2023, according to official data from the World Bank.', 'Gross Domestic Product (GDP) of the United States ; 2023, $27,720,700,000,000, $22,062,600,000,000 ; 2022, $26,006,900,000,000, $21,443,400,000,000 ; 2021 ...', 'View the annual rate of economic output, or the inflation-adjusted value of all new goods and services produced by labor and property located in the U.S..', \"As of 2025, it has the world's seventh highest nominal GDP per capita and ninth highest GDP per capita by PPP. The U.S. accounts for 27% of the global economy ...\", 'U.S. gdp growth rate for 2023 was 2.89%, a 0.38% increase from 2022. · U.S. gdp growth rate for 2022 was 2.51%, a 3.54% decline from 2021. · U.S. gdp growth rate ...']\u001b[0m\n",
            "Thought:\u001b[32;1m\u001b[1;3mI have found the GDP of 2022, which is $25.46 trillion or $26.0069 trillion ( slight discrepancy in sources).\n",
            "\n",
            "Action: Calculator\n",
            "Action Input: 26006.9 + 15\u001b[0m\n",
            "Observation: \u001b[33;1m\u001b[1;3mAnswer: 26021.9\u001b[0m\n",
            "Thought:\u001b[32;1m\u001b[1;3mI now know the final answer.\n",
            "\n",
            "Final Answer: The GDP of the US in 2022 plus 15 is approximately 26021.9.\u001b[0m\n",
            "\n",
            "\u001b[1m> Finished chain.\u001b[0m\n"
          ]
        },
        {
          "output_type": "execute_result",
          "data": {
            "text/plain": [
              "'The GDP of the US in 2022 plus 15 is approximately 26021.9.'"
            ],
            "application/vnd.google.colaboratory.intrinsic+json": {
              "type": "string"
            }
          },
          "metadata": {},
          "execution_count": 31
        }
      ]
    },
    {
      "cell_type": "code",
      "source": [
        "!pip install wikipedia"
      ],
      "metadata": {
        "colab": {
          "base_uri": "https://localhost:8080/"
        },
        "id": "cYrrMjEvP8gQ",
        "outputId": "93b17fde-d1cc-4b24-953c-e95c1947d38b"
      },
      "execution_count": 32,
      "outputs": [
        {
          "output_type": "stream",
          "name": "stdout",
          "text": [
            "Collecting wikipedia\n",
            "  Downloading wikipedia-1.4.0.tar.gz (27 kB)\n",
            "  Preparing metadata (setup.py) ... \u001b[?25l\u001b[?25hdone\n",
            "Requirement already satisfied: beautifulsoup4 in /usr/local/lib/python3.11/dist-packages (from wikipedia) (4.13.4)\n",
            "Requirement already satisfied: requests<3.0.0,>=2.0.0 in /usr/local/lib/python3.11/dist-packages (from wikipedia) (2.32.3)\n",
            "Requirement already satisfied: charset-normalizer<4,>=2 in /usr/local/lib/python3.11/dist-packages (from requests<3.0.0,>=2.0.0->wikipedia) (3.4.2)\n",
            "Requirement already satisfied: idna<4,>=2.5 in /usr/local/lib/python3.11/dist-packages (from requests<3.0.0,>=2.0.0->wikipedia) (3.10)\n",
            "Requirement already satisfied: urllib3<3,>=1.21.1 in /usr/local/lib/python3.11/dist-packages (from requests<3.0.0,>=2.0.0->wikipedia) (2.4.0)\n",
            "Requirement already satisfied: certifi>=2017.4.17 in /usr/local/lib/python3.11/dist-packages (from requests<3.0.0,>=2.0.0->wikipedia) (2025.4.26)\n",
            "Requirement already satisfied: soupsieve>1.2 in /usr/local/lib/python3.11/dist-packages (from beautifulsoup4->wikipedia) (2.7)\n",
            "Requirement already satisfied: typing-extensions>=4.0.0 in /usr/local/lib/python3.11/dist-packages (from beautifulsoup4->wikipedia) (4.14.0)\n",
            "Building wheels for collected packages: wikipedia\n",
            "  Building wheel for wikipedia (setup.py) ... \u001b[?25l\u001b[?25hdone\n",
            "  Created wheel for wikipedia: filename=wikipedia-1.4.0-py3-none-any.whl size=11678 sha256=94289003fca4ee84ee14efb5579ec414ffa53a7698b3953bd57bafd0bfb17944\n",
            "  Stored in directory: /root/.cache/pip/wheels/8f/ab/cb/45ccc40522d3a1c41e1d2ad53b8f33a62f394011ec38cd71c6\n",
            "Successfully built wikipedia\n",
            "Installing collected packages: wikipedia\n",
            "Successfully installed wikipedia-1.4.0\n"
          ]
        }
      ]
    },
    {
      "cell_type": "code",
      "source": [
        "tools = load_tools(['wikipedia','llm-math'],llm = llm)\n",
        "agent = initialize_agent(tools,llm,agent=AgentType.ZERO_SHOT_REACT_DESCRIPTION,verbose=True)\n",
        "\n",
        "agent.run(\"When was Elon musk born? What is his age right now in 2024?\")"
      ],
      "metadata": {
        "colab": {
          "base_uri": "https://localhost:8080/",
          "height": 576
        },
        "id": "Q-ubu1qnQGDn",
        "outputId": "4c8b3b1f-3cc7-461d-9578-78692ac3d4a4"
      },
      "execution_count": 35,
      "outputs": [
        {
          "output_type": "stream",
          "name": "stdout",
          "text": [
            "\n",
            "\n",
            "\u001b[1m> Entering new AgentExecutor chain...\u001b[0m\n",
            "\u001b[32;1m\u001b[1;3mThought: I need to find out when Elon Musk was born and calculate his age in 2024.\n",
            "\n",
            "Action: wikipedia\n",
            "Action Input: Elon Musk\u001b[0m\n",
            "Observation: \u001b[36;1m\u001b[1;3mPage: Elon Musk\n",
            "Summary: Elon Reeve Musk ( EE-lon; born June 28, 1971) is a businessman known for his leadership of Tesla, SpaceX, X (formerly Twitter) and the Department of Government Efficiency (DOGE). Musk has been considered the wealthiest person in the world since 2021; as of May 2025, Forbes estimates his net worth to be US$424.7 billion. \n",
            "Born to a wealthy family in Pretoria, South Africa, Musk emigrated in 1989 to Canada. He received bachelor's degrees from the University of Pennsylvania in 1997 before moving to California, United States, to pursue business ventures. In 1995, Musk co-founded the software company Zip2. Following its sale in 1999, he co-founded X.com, an online payment company that later merged to form PayPal, which was acquired by eBay in 2002. That year, Musk also became an American citizen.\n",
            "In 2002, Musk founded the space technology company SpaceX, becoming its CEO and chief engineer; the company has since led innovations in reusable rockets and commercial spaceflight. Musk joined the automaker Tesla as an early investor in 2004 and became its CEO and product architect in 2008; it has since become a leader in electric vehicles. In 2015, he co-founded OpenAI to advance artificial intelligence research but later left; growing discontent with the organization's direction and their leadership in the AI boom in the 2020s led him to establish xAI. In 2022, he acquired the social network Twitter, implementing significant changes and rebranding it as X in 2023. His other businesses include the neurotechnology company Neuralink, which he co-founded in 2016, and the tunneling company the Boring Company, which he founded in 2017. He was named Time magazine's Person of the Year in 2021.\n",
            "Musk's political activities and views have made him a polarizing figure. He has been criticized for making unscientific and misleading statements, including COVID-19 misinformation and promoting conspiracy theories, and affirming antisemitic, racist, and transphobic comments. His acquisition of Twitter was controversial due to a subsequent increase in hate speech and the spread of misinformation on the service. Musk was the largest donor in the 2024 U.S. presidential election, and is a supporter of global far-right figures, causes, and political parties. In early 2025, he served as senior advisor to United States president Donald Trump and as the de facto head of DOGE. His role in the second Trump administration, particularly in response to DOGE, attracted public backlash.\n",
            "\n",
            "Page: Elon Musk salute controversy\n",
            "Summary: On January 20, 2025, while speaking at a rally celebrating U.S. president Donald Trump's second inauguration, businessman and political figure Elon Musk twice made a salute interpreted by many as a Nazi or a fascist Roman salute.\n",
            "It was widely condemned as an intentional Nazi salute in Germany, where making such gestures is illegal. The Anti-Defamation League said it was not a Nazi salute, but other Jewish organizations disagreed and condemned the salute. American public opinion was divided on partisan lines as to whether it was a fascist salute. Musk dismissed the accusations of Nazi sympathies, deriding them as \"dirty tricks\" and a \"tired\" attack. Neo-Nazi and white supremacist groups celebrated it as a Nazi salute. Multiple European political parties demanded that Musk be banned from entering their countries.\n",
            "\n",
            "Page: Wealth of Elon Musk\n",
            "Summary: Elon Musk is the wealthiest person in the world, with an estimated net worth of US$381 billion as of May 2025, according to the Bloomberg Billionaires Index, and $424.7 billion according to Forbes, primarily from his ownership stakes in Tesla and SpaceX. \n",
            "Having been first listed on the Forbes Billionaires List in 2012, around 75% of Musk's wealth was derived from Tesla stock in November 2020. Describing himself as \"cash poor\", he became the first person in the world to have a net worth above $300 billion a year later. By December 2024, he became the first person to reach a \u001b[0m\n",
            "Thought:\u001b[32;1m\u001b[1;3mThought: I now know Elon Musk's birthdate, which is June 28, 1971.\n",
            "\n",
            "Action: Calculator\n",
            "Action Input: 2024 - 1971\u001b[0m\n",
            "Observation: \u001b[33;1m\u001b[1;3mAnswer: 53\u001b[0m\n",
            "Thought:\u001b[32;1m\u001b[1;3mThought: I now know Elon Musk's birthdate, which is June 28, 1971, and I have calculated his age in 2024, which is 53.\n",
            "\n",
            "Final Answer: Elon Musk was born on June 28, 1971, and his age in 2024 is 53.\u001b[0m\n",
            "\n",
            "\u001b[1m> Finished chain.\u001b[0m\n"
          ]
        },
        {
          "output_type": "execute_result",
          "data": {
            "text/plain": [
              "'Elon Musk was born on June 28, 1971, and his age in 2024 is 53.'"
            ],
            "application/vnd.google.colaboratory.intrinsic+json": {
              "type": "string"
            }
          },
          "metadata": {},
          "execution_count": 35
        }
      ]
    },
    {
      "cell_type": "code",
      "source": [
        "#Memory\n",
        "from langchain.memory import ConversationBufferMemory\n",
        "memory = ConversationBufferMemory()\n",
        "\n",
        "chain = LLMChain(llm = llm,prompt=prompt_template_name,memory = memory)\n",
        "name = chain.run('Mexican')\n",
        "print(name)"
      ],
      "metadata": {
        "colab": {
          "base_uri": "https://localhost:8080/"
        },
        "id": "odPsj4KdQgYU",
        "outputId": "f89371ab-4a66-44c2-8bac-63d8eb5540f7"
      },
      "execution_count": 36,
      "outputs": [
        {
          "output_type": "stream",
          "name": "stderr",
          "text": [
            "<ipython-input-36-687323d3b926>:3: LangChainDeprecationWarning: Please see the migration guide at: https://python.langchain.com/docs/versions/migrating_memory/\n",
            "  memory = ConversationBufferMemory()\n"
          ]
        },
        {
          "output_type": "stream",
          "name": "stdout",
          "text": [
            "¡Hola! Congratulations on your new venture! Here are some fancy name suggestions for your Mexican restaurant:\n",
            "\n",
            "1. **La Casa Azul** - Inspired by Frida Kahlo's iconic abode, this name evokes warmth and cultural richness.\n",
            "2. **Vibrante** - Meaning \"vibrant\" in Spanish, this name captures the energetic and lively spirit of Mexican cuisine.\n",
            "4. **El Patio de las Flores** - This name transports customers to a colorful, flower-filled courtyard, perfect for a festive dining experience.\n",
            "5. **Casa de la Vida** - \"House of Life\" conveys the warmth and hospitality that Mexican culture is famous for.\n",
            "6. **La Hacienda de los Sabores** - This name pays homage to the traditional Mexican estate, while highlighting the rich flavors of your menu.\n",
            "7. **Jardín de la Abuela** - \"Grandmother's Garden\" evokes a sense of family tradition and homemade cooking, perfect for a cozy, authentic Mexican eatery.\n",
            "8. **Sol y Sombra** - \"Sun and Shade\" reflects the balance of flavors and textures found in Mexican cuisine, as well as the warm, inviting atmosphere of your restaurant.\n",
            "9. **La Taquería de la Familia** - This name emphasizes the family-oriented, traditional aspects of Mexican food and culture.\n",
            "10. **El Farolito** - \"The Little Lighthouse\" suggests a warm, guiding customers to a delicious, authentic Mexican dining experience.\n",
            "\n",
            "Choose the one that resonates with your vision and style, and buena suerte with your new restaurant!\n"
          ]
        }
      ]
    },
    {
      "cell_type": "code",
      "source": [
        "name = chain.run(\"Arabic\")\n",
        "print(name)"
      ],
      "metadata": {
        "colab": {
          "base_uri": "https://localhost:8080/"
        },
        "id": "Dwsab1pWiCOe",
        "outputId": "66a7ae46-c811-427a-a695-4a5644da0941"
      },
      "execution_count": 37,
      "outputs": [
        {
          "output_type": "stream",
          "name": "stdout",
          "text": [
            "What a great idea! Arabic cuisine is rich and flavorful, and I'm sure your restaurant will be a hit! Here are some fancy suggestions for your Arabic restaurant's name:\n",
            "\n",
            "1. **Aladdin's Table**: Inspired by the famous tale of Aladdin, this name evokes a sense of magic and exotic flavors.\n",
            "2. **Sahara's Spice**: This name combines the vast desert landscape of the Sahara with the aromatic spices that are characteristic of Arabic cuisine.\n",
            "3. **Dar Al Sultan**: Meaning \"House of the Sultan, this name conveys luxury and opulence, perfect for a high-end dining experience.\n",
            "5. **Mashawi**: Derived from the Arabic word for \"grilled\" or \"skewered,\" this name emphasizes the grilled meats and kebabs that are staples of Arabic cuisine.\n",
            "6. **Al Khaimah**: This name, meaning \"the tent,\" evokes a sense of hospitality and warmth, inviting customers to come and experience the flavors of the Middle East.\n",
            "7. **Sahar's Kitchen**: This name combines the Arabic word for \"dawn\" with \"kitchen,\" suggesting a bright and flavorful start to your customers' day.\n",
            "8. **Bait Al Mandi**: Translating to \"House of Mandi,\" this name highlights the popular Arabic dish of slow-cooked meat served with fragrant rice and spices.\n",
            "9. **Zahra's**: Derived from the word for \"blooming flower,\" this name suggests a vibrant and colorful dining experience, perfect for a lively restaurant.\n",
            "10. **Al Fawal**: Meaning \"the generosity,\" this name emphasizes the warm hospitality and generous portions that are characteristic of Arabic culture and cuisine.\n",
            "\n",
            "Choose the one that resonates with your vision and brand identity, and I'm sure your restaurant will be a huge success!\n"
          ]
        }
      ]
    },
    {
      "cell_type": "code",
      "source": [
        "print(chain.memory.buffer)"
      ],
      "metadata": {
        "colab": {
          "base_uri": "https://localhost:8080/"
        },
        "id": "NoI6fGa1iMxH",
        "outputId": "f8d34f23-66b6-4c24-fd9b-098990d8f3ad"
      },
      "execution_count": 38,
      "outputs": [
        {
          "output_type": "stream",
          "name": "stdout",
          "text": [
            "Human: Mexican\n",
            "AI: ¡Hola! Congratulations on your new venture! Here are some fancy name suggestions for your Mexican restaurant:\n",
            "\n",
            "1. **La Casa Azul** - Inspired by Frida Kahlo's iconic abode, this name evokes warmth and cultural richness.\n",
            "2. **Vibrante** - Meaning \"vibrant\" in Spanish, this name captures the energetic and lively spirit of Mexican cuisine.\n",
            "4. **El Patio de las Flores** - This name transports customers to a colorful, flower-filled courtyard, perfect for a festive dining experience.\n",
            "5. **Casa de la Vida** - \"House of Life\" conveys the warmth and hospitality that Mexican culture is famous for.\n",
            "6. **La Hacienda de los Sabores** - This name pays homage to the traditional Mexican estate, while highlighting the rich flavors of your menu.\n",
            "7. **Jardín de la Abuela** - \"Grandmother's Garden\" evokes a sense of family tradition and homemade cooking, perfect for a cozy, authentic Mexican eatery.\n",
            "8. **Sol y Sombra** - \"Sun and Shade\" reflects the balance of flavors and textures found in Mexican cuisine, as well as the warm, inviting atmosphere of your restaurant.\n",
            "9. **La Taquería de la Familia** - This name emphasizes the family-oriented, traditional aspects of Mexican food and culture.\n",
            "10. **El Farolito** - \"The Little Lighthouse\" suggests a warm, guiding customers to a delicious, authentic Mexican dining experience.\n",
            "\n",
            "Choose the one that resonates with your vision and style, and buena suerte with your new restaurant!\n",
            "Human: Arabic\n",
            "AI: What a great idea! Arabic cuisine is rich and flavorful, and I'm sure your restaurant will be a hit! Here are some fancy suggestions for your Arabic restaurant's name:\n",
            "\n",
            "1. **Aladdin's Table**: Inspired by the famous tale of Aladdin, this name evokes a sense of magic and exotic flavors.\n",
            "2. **Sahara's Spice**: This name combines the vast desert landscape of the Sahara with the aromatic spices that are characteristic of Arabic cuisine.\n",
            "3. **Dar Al Sultan**: Meaning \"House of the Sultan, this name conveys luxury and opulence, perfect for a high-end dining experience.\n",
            "5. **Mashawi**: Derived from the Arabic word for \"grilled\" or \"skewered,\" this name emphasizes the grilled meats and kebabs that are staples of Arabic cuisine.\n",
            "6. **Al Khaimah**: This name, meaning \"the tent,\" evokes a sense of hospitality and warmth, inviting customers to come and experience the flavors of the Middle East.\n",
            "7. **Sahar's Kitchen**: This name combines the Arabic word for \"dawn\" with \"kitchen,\" suggesting a bright and flavorful start to your customers' day.\n",
            "8. **Bait Al Mandi**: Translating to \"House of Mandi,\" this name highlights the popular Arabic dish of slow-cooked meat served with fragrant rice and spices.\n",
            "9. **Zahra's**: Derived from the word for \"blooming flower,\" this name suggests a vibrant and colorful dining experience, perfect for a lively restaurant.\n",
            "10. **Al Fawal**: Meaning \"the generosity,\" this name emphasizes the warm hospitality and generous portions that are characteristic of Arabic culture and cuisine.\n",
            "\n",
            "Choose the one that resonates with your vision and brand identity, and I'm sure your restaurant will be a huge success!\n"
          ]
        }
      ]
    },
    {
      "cell_type": "code",
      "source": [
        "from langchain.chains import ConversationChain\n",
        "convo = ConversationChain(llm=llm)\n",
        "print(convo.prompt.template)"
      ],
      "metadata": {
        "colab": {
          "base_uri": "https://localhost:8080/"
        },
        "id": "5r1Kjw0niUkY",
        "outputId": "d0ed2eef-60c6-4981-cd43-d6ea1a94208f"
      },
      "execution_count": 39,
      "outputs": [
        {
          "output_type": "stream",
          "name": "stdout",
          "text": [
            "The following is a friendly conversation between a human and an AI. The AI is talkative and provides lots of specific details from its context. If the AI does not know the answer to a question, it truthfully says it does not know.\n",
            "\n",
            "Current conversation:\n",
            "{history}\n",
            "Human: {input}\n",
            "AI:\n"
          ]
        },
        {
          "output_type": "stream",
          "name": "stderr",
          "text": [
            "<ipython-input-39-47c3035ed016>:2: LangChainDeprecationWarning: The class `ConversationChain` was deprecated in LangChain 0.2.7 and will be removed in 1.0. Use :meth:`~RunnableWithMessageHistory: https://python.langchain.com/v0.2/api_reference/core/runnables/langchain_core.runnables.history.RunnableWithMessageHistory.html` instead.\n",
            "  convo = ConversationChain(llm=llm)\n"
          ]
        }
      ]
    },
    {
      "cell_type": "code",
      "source": [
        "convo.run(\"who won the first cricket world cup?\")"
      ],
      "metadata": {
        "colab": {
          "base_uri": "https://localhost:8080/",
          "height": 105
        },
        "id": "eIvCmyOFikqB",
        "outputId": "382f6acb-a064-4b66-efa0-b5587feb2fcb"
      },
      "execution_count": 40,
      "outputs": [
        {
          "output_type": "execute_result",
          "data": {
            "text/plain": [
              "\"What a great question! The first Cricket World Cup was held in 1975 in England, and it was won by the West Indies cricket team! They defeated Australia in the final at Lord's Cricket Ground in London on June 21, 1975. The West Indies team was led by Clive Lloyd, and they won the match by 17 runs. Vivian Richards was the top scorer in the match with an incredible 138 not out!\""
            ],
            "application/vnd.google.colaboratory.intrinsic+json": {
              "type": "string"
            }
          },
          "metadata": {},
          "execution_count": 40
        }
      ]
    },
    {
      "cell_type": "code",
      "source": [
        "convo.run(\"How much is 5+5?\")"
      ],
      "metadata": {
        "colab": {
          "base_uri": "https://localhost:8080/",
          "height": 36
        },
        "id": "mC3L_soDiuMs",
        "outputId": "fa3e651e-84b8-432e-a0e8-290ac2f6704f"
      },
      "execution_count": 41,
      "outputs": [
        {
          "output_type": "execute_result",
          "data": {
            "text/plain": [
              "\"That's an easy one! 5+5 is equal to 10!\""
            ],
            "application/vnd.google.colaboratory.intrinsic+json": {
              "type": "string"
            }
          },
          "metadata": {},
          "execution_count": 41
        }
      ]
    },
    {
      "cell_type": "code",
      "source": [
        "convo.run(\"Who was the captain ofthe winning team?\")"
      ],
      "metadata": {
        "colab": {
          "base_uri": "https://localhost:8080/",
          "height": 53
        },
        "id": "Qf6qIzk0ivhT",
        "outputId": "7627d3a0-fb8c-49aa-b997-ff29332532da"
      },
      "execution_count": 42,
      "outputs": [
        {
          "output_type": "execute_result",
          "data": {
            "text/plain": [
              "\"That's an easy one! The captain of the West Indies team that won the first Cricket World Cup in 1975 was Clive Lloyd!\""
            ],
            "application/vnd.google.colaboratory.intrinsic+json": {
              "type": "string"
            }
          },
          "metadata": {},
          "execution_count": 42
        }
      ]
    },
    {
      "cell_type": "code",
      "source": [
        "print(convo.memory.buffer)"
      ],
      "metadata": {
        "colab": {
          "base_uri": "https://localhost:8080/"
        },
        "id": "LSZlPEuwiwrz",
        "outputId": "be874b5d-7356-49b0-e639-3a8bcc07e381"
      },
      "execution_count": 43,
      "outputs": [
        {
          "output_type": "stream",
          "name": "stdout",
          "text": [
            "Human: who won the first cricket world cup?\n",
            "AI: What a great question! The first Cricket World Cup was held in 1975 in England, and it was won by the West Indies cricket team! They defeated Australia in the final at Lord's Cricket Ground in London on June 21, 1975. The West Indies team was led by Clive Lloyd, and they won the match by 17 runs. Vivian Richards was the top scorer in the match with an incredible 138 not out!\n",
            "Human: How much is 5+5?\n",
            "AI: That's an easy one! 5+5 is equal to 10!\n",
            "Human: Who was the captain ofthe winning team?\n",
            "AI: That's an easy one! The captain of the West Indies team that won the first Cricket World Cup in 1975 was Clive Lloyd!\n"
          ]
        }
      ]
    },
    {
      "cell_type": "code",
      "source": [
        "#ConversationBufferWindowMemory\n",
        "from langchain.memory import ConversationBufferWindowMemory\n",
        "memory = ConversationBufferMemory(k=1)\n",
        "convo = ConversationChain(llm = llm,memory=memory)\n",
        "convo.run(\"Who won the first cricket world cup?\")"
      ],
      "metadata": {
        "colab": {
          "base_uri": "https://localhost:8080/",
          "height": 105
        },
        "id": "Vtn8BZbJi1aT",
        "outputId": "d9e82f1e-11c4-44b4-834d-516edd7bc38b"
      },
      "execution_count": 46,
      "outputs": [
        {
          "output_type": "execute_result",
          "data": {
            "text/plain": [
              "\"What a fantastic question! I'm delighted to share the answer with you! The first Cricket World Cup was held in 1975 in England, and it was won by the West Indies, who defeated Australia in the final at Lord's Cricket Ground in London on June 21, 1975. The West Indies, led by Clive Lloyd, won the match by 17 runs, with Vivian Richards scoring a magnificent 138 not out. What a thrilling match that must have been!\""
            ],
            "application/vnd.google.colaboratory.intrinsic+json": {
              "type": "string"
            }
          },
          "metadata": {},
          "execution_count": 46
        }
      ]
    },
    {
      "cell_type": "code",
      "source": [
        "convo.run(\"How much is 5+5?\")"
      ],
      "metadata": {
        "colab": {
          "base_uri": "https://localhost:8080/",
          "height": 36
        },
        "id": "kGC2mUNPjR2A",
        "outputId": "dd7c6a63-1758-4587-a973-ae7c7be0d119"
      },
      "execution_count": 47,
      "outputs": [
        {
          "output_type": "execute_result",
          "data": {
            "text/plain": [
              "'A simple yet delightful math question! The answer, my friend, is 10!'"
            ],
            "application/vnd.google.colaboratory.intrinsic+json": {
              "type": "string"
            }
          },
          "metadata": {},
          "execution_count": 47
        }
      ]
    },
    {
      "cell_type": "code",
      "source": [
        "convo.run(\"Who was the captain of the winning team?\")"
      ],
      "metadata": {
        "colab": {
          "base_uri": "https://localhost:8080/",
          "height": 70
        },
        "id": "KNuePvtBjT3n",
        "outputId": "dbacc475-a520-411a-c16c-d7e8425b2daf"
      },
      "execution_count": 48,
      "outputs": [
        {
          "output_type": "execute_result",
          "data": {
            "text/plain": [
              "\"I'm happy to provide that information! The captain of the West Indies team that won the first Cricket World Cup in 1975 was Clive Lloyd. He was an exceptional leader and a great batsman, and his team's victory was a testament to his leadership skills.\""
            ],
            "application/vnd.google.colaboratory.intrinsic+json": {
              "type": "string"
            }
          },
          "metadata": {},
          "execution_count": 48
        }
      ]
    },
    {
      "cell_type": "code",
      "source": [
        "convo.run(\"which team played ipl?\")"
      ],
      "metadata": {
        "colab": {
          "base_uri": "https://localhost:8080/",
          "height": 157
        },
        "id": "2AOrhNG8jcgC",
        "outputId": "2ac59071-d257-46b4-e956-92264f82409e"
      },
      "execution_count": 49,
      "outputs": [
        {
          "output_type": "execute_result",
          "data": {
            "text/plain": [
              "\"I think there might be some confusion! The IPL, or Indian Premier League, is a professional Twenty20 cricket league established in 2008. It's a domestic tournament in India, featuring eight teams. The teams that play in the IPL are:\\n\\n1. Chennai Super Kings\\n2. Delhi Capitals\\n3. Gujarat Titans\\n4. Kolkata Knight Riders\\n5. Lucknow Super Giants\\n6. Mumbai Indians\\n7. Punjab Kings\\n8. Rajasthan Royals\\n\\nThese teams compete against each other in the IPL tournament, which usually held between March and May every year.\\n\\nHowever, if you're asking which team played in the IPL, I'd say all the teams I listed above have played in the IPL at some point!\""
            ],
            "application/vnd.google.colaboratory.intrinsic+json": {
              "type": "string"
            }
          },
          "metadata": {},
          "execution_count": 49
        }
      ]
    }
  ]
}